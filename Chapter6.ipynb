{
  "nbformat": 4,
  "nbformat_minor": 0,
  "metadata": {
    "colab": {
      "name": "Chapter6.ipynb",
      "version": "0.3.2",
      "provenance": [],
      "include_colab_link": true
    },
    "kernelspec": {
      "name": "python3",
      "display_name": "Python 3"
    }
  },
  "cells": [
    {
      "cell_type": "markdown",
      "metadata": {
        "id": "view-in-github",
        "colab_type": "text"
      },
      "source": [
        "<a href=\"https://colab.research.google.com/github/naomori/codexa_LogisticRegression_Practice/blob/master/Chapter6.ipynb\" target=\"_parent\"><img src=\"https://colab.research.google.com/assets/colab-badge.svg\" alt=\"Open In Colab\"/></a>"
      ]
    },
    {
      "cell_type": "markdown",
      "metadata": {
        "id": "_5lyb0NyqTug",
        "colab_type": "text"
      },
      "source": [
        "# ロジスティック回帰のモデル評価方法\n",
        "\n"
      ]
    },
    {
      "cell_type": "markdown",
      "metadata": {
        "id": "Z3qKRZ7jqmg2",
        "colab_type": "text"
      },
      "source": [
        "# Section.1: 混同行列（Confusion Matrix）と正解率（Accuracy Score）\n",
        "\n",
        "\n",
        "\n"
      ]
    },
    {
      "cell_type": "code",
      "metadata": {
        "id": "Fui82nX9rTLA",
        "colab_type": "code",
        "colab": {}
      },
      "source": [
        ""
      ],
      "execution_count": 0,
      "outputs": []
    },
    {
      "cell_type": "markdown",
      "metadata": {
        "id": "g5SoCre1rRhw",
        "colab_type": "text"
      },
      "source": [
        "# Section.2: 適合率（Precision）と再現率（Recall）\n",
        "\n",
        "$Precision = \\frac{TP}{TP+FP}$ \n",
        "\n",
        "Positive と予測したものの中で、実際に Positive だった確率\n",
        "\n",
        "$Recall = \\frac{TP}{TP + FN}$\n",
        "\n",
        "実際に Positive であるものの中で、どれだけ Positive と予測できたかの確率\n",
        "\n",
        "**Precision と Recall は trade-off の関係性にある**\n",
        "\n",
        "分類問題に取り組むときは、**どの指標を重視するか** を考えてモデルの改善に取り組むのかが重要"
      ]
    },
    {
      "cell_type": "markdown",
      "metadata": {
        "id": "H2r7z2dTs_E2",
        "colab_type": "text"
      },
      "source": [
        "# Section.3: その他の評価指標\n",
        "\n",
        "### F1 Score\n",
        "\n",
        "$F1 = 2 \\times \\frac{precision \\times recall}{precision + recall}$\n",
        "\n",
        "F1 Score は precision と recall の値に差がない場合に利用されることが多い。\n",
        "\n",
        "### ROC曲線(Receiving Operator Characteristic)/AUC(Area Under the Curve)\n",
        "\n",
        "ROC曲線は、横軸に False Positive、縦軸に True Positive の割合をグラフ化したものを指す。  \n",
        "ROC曲線の下の面積を AUC と呼ぶ。  \n",
        "AUC は ０～１　の値をとり、値が１のときは、\n",
        "データが完全に分類可能である場合を指す。\n",
        "\n"
      ]
    },
    {
      "cell_type": "code",
      "metadata": {
        "id": "580nqnewqR9H",
        "colab_type": "code",
        "colab": {}
      },
      "source": [
        ""
      ],
      "execution_count": 0,
      "outputs": []
    }
  ]
}