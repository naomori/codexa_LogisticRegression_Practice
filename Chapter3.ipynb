{
  "nbformat": 4,
  "nbformat_minor": 0,
  "metadata": {
    "colab": {
      "name": "Chapter3.ipynb",
      "version": "0.3.2",
      "provenance": [],
      "include_colab_link": true
    },
    "kernelspec": {
      "name": "python3",
      "display_name": "Python 3"
    },
    "accelerator": "GPU"
  },
  "cells": [
    {
      "cell_type": "markdown",
      "metadata": {
        "id": "view-in-github",
        "colab_type": "text"
      },
      "source": [
        "<a href=\"https://colab.research.google.com/github/naomori/codexa_LogisticRegression_Practice/blob/master/Chapter3.ipynb\" target=\"_parent\"><img src=\"https://colab.research.google.com/assets/colab-badge.svg\" alt=\"Open In Colab\"/></a>"
      ]
    },
    {
      "cell_type": "markdown",
      "metadata": {
        "id": "pdGGTWqItX0c",
        "colab_type": "text"
      },
      "source": [
        "# Section.1: ロジスティック回帰のモデル\n",
        "\n",
        "0-1の値をモデル化することにより、データセット内の観測値が\n",
        "特定のクラスに属する確率を本質的に与えてくれる。\n",
        "\n",
        "ロジスティック回帰では、直線ではなく、0-1のS字曲線を使う。"
      ]
    },
    {
      "cell_type": "markdown",
      "metadata": {
        "id": "C0vqC-wxu3h9",
        "colab_type": "text"
      },
      "source": [
        "## Section.2: シグモイド関数（Sigmoid Function）\n",
        "\n",
        "シグモイド関数は、値を0-1のレン時にコンパクトにする計算処理を行う。\n",
        "\n",
        "$\\frac{e^{(w_1x+w_0)}}{1+e^{(w_1x+w_0)}}$\n",
        "\n",
        "あるいは、\n",
        "\n",
        "$\\frac{1}{1+e^{-(w_1x+w_0)}}$\n",
        "\n",
        "* $w_1$ は係数または傾き\n",
        "* $w_0$ は定数項またはY切片\n",
        "* $x$ はデータ内の特徴量\n",
        "\n",
        "$y = w_1x + w_0$ は線形回帰のモデル式であり、  \n",
        "シグモイド関数は、このモデル式を圧縮して０～１の確率となる値を出力する。\n",
        "\n",
        "$e$はネイピア数で Napier's constant または オイラー数（Euler's constant）\n",
        "\n"
      ]
    },
    {
      "cell_type": "code",
      "metadata": {
        "id": "dVz8dag9uIfZ",
        "colab_type": "code",
        "colab": {
          "base_uri": "https://localhost:8080/",
          "height": 34
        },
        "outputId": "4c7a8ab1-c0e5-4913-eee9-b1478f2ce468"
      },
      "source": [
        "import numpy as np\n",
        "print(np.e)"
      ],
      "execution_count": 3,
      "outputs": [
        {
          "output_type": "stream",
          "text": [
            "2.718281828459045\n"
          ],
          "name": "stdout"
        }
      ]
    },
    {
      "cell_type": "markdown",
      "metadata": {
        "id": "DZyX_ruYwvwg",
        "colab_type": "text"
      },
      "source": [
        "## Section.3: 特徴量１つのロジスティック回帰\n",
        "\n"
      ]
    },
    {
      "cell_type": "code",
      "metadata": {
        "id": "PS5aivhpw98H",
        "colab_type": "code",
        "colab": {}
      },
      "source": [
        "from google.colab import files\n",
        "uploaded = files.upload() "
      ],
      "execution_count": 0,
      "outputs": []
    },
    {
      "cell_type": "code",
      "metadata": {
        "id": "TRL5muqnw906",
        "colab_type": "code",
        "colab": {}
      },
      "source": [
        "import numpy as np\n",
        "import pandas as pd\n",
        "import statsmodels.api as sm\n",
        "import matplotlib.pyplot as plt\n",
        "import matplotlib.gridspec as gridspec\n",
        "from sklearn.preprocessing import LabelEncoder"
      ],
      "execution_count": 0,
      "outputs": []
    },
    {
      "cell_type": "code",
      "metadata": {
        "id": "J-tWBonAwMGS",
        "colab_type": "code",
        "colab": {}
      },
      "source": [
        "# Pandas の表示設定\n",
        "pd.set_option('max_columns', 50)\n",
        "pd.set_option('max_rows', 500000)"
      ],
      "execution_count": 0,
      "outputs": []
    },
    {
      "cell_type": "code",
      "metadata": {
        "id": "9Yp_dtq9xVTg",
        "colab_type": "code",
        "colab": {}
      },
      "source": [
        "# CSVファイルの読み込み\n",
        "mushroom = pd.read_csv('mushrooms.csv')"
      ],
      "execution_count": 0,
      "outputs": []
    },
    {
      "cell_type": "code",
      "metadata": {
        "id": "YyJ_CfV-xatc",
        "colab_type": "code",
        "colab": {
          "base_uri": "https://localhost:8080/",
          "height": 266
        },
        "outputId": "70409fc6-6384-4940-b825-4faa2816ac84"
      },
      "source": [
        "# データセットの最初の５行を表示\n",
        "mushroom.head()"
      ],
      "execution_count": 9,
      "outputs": [
        {
          "output_type": "execute_result",
          "data": {
            "text/html": [
              "<div>\n",
              "<style scoped>\n",
              "    .dataframe tbody tr th:only-of-type {\n",
              "        vertical-align: middle;\n",
              "    }\n",
              "\n",
              "    .dataframe tbody tr th {\n",
              "        vertical-align: top;\n",
              "    }\n",
              "\n",
              "    .dataframe thead th {\n",
              "        text-align: right;\n",
              "    }\n",
              "</style>\n",
              "<table border=\"1\" class=\"dataframe\">\n",
              "  <thead>\n",
              "    <tr style=\"text-align: right;\">\n",
              "      <th></th>\n",
              "      <th>class</th>\n",
              "      <th>cap-shape</th>\n",
              "      <th>cap-surface</th>\n",
              "      <th>cap-color</th>\n",
              "      <th>bruises</th>\n",
              "      <th>odor</th>\n",
              "      <th>gill-attachment</th>\n",
              "      <th>gill-spacing</th>\n",
              "      <th>gill-size</th>\n",
              "      <th>gill-color</th>\n",
              "      <th>stalk-shape</th>\n",
              "      <th>stalk-root</th>\n",
              "      <th>stalk-surface-above-ring</th>\n",
              "      <th>stalk-surface-below-ring</th>\n",
              "      <th>stalk-color-above-ring</th>\n",
              "      <th>stalk-color-below-ring</th>\n",
              "      <th>veil-type</th>\n",
              "      <th>veil-color</th>\n",
              "      <th>ring-number</th>\n",
              "      <th>ring-type</th>\n",
              "      <th>spore-print-color</th>\n",
              "      <th>population</th>\n",
              "      <th>habitat</th>\n",
              "    </tr>\n",
              "  </thead>\n",
              "  <tbody>\n",
              "    <tr>\n",
              "      <th>0</th>\n",
              "      <td>p</td>\n",
              "      <td>x</td>\n",
              "      <td>s</td>\n",
              "      <td>n</td>\n",
              "      <td>t</td>\n",
              "      <td>p</td>\n",
              "      <td>f</td>\n",
              "      <td>c</td>\n",
              "      <td>n</td>\n",
              "      <td>k</td>\n",
              "      <td>e</td>\n",
              "      <td>e</td>\n",
              "      <td>s</td>\n",
              "      <td>s</td>\n",
              "      <td>w</td>\n",
              "      <td>w</td>\n",
              "      <td>p</td>\n",
              "      <td>w</td>\n",
              "      <td>o</td>\n",
              "      <td>p</td>\n",
              "      <td>k</td>\n",
              "      <td>s</td>\n",
              "      <td>u</td>\n",
              "    </tr>\n",
              "    <tr>\n",
              "      <th>1</th>\n",
              "      <td>e</td>\n",
              "      <td>x</td>\n",
              "      <td>s</td>\n",
              "      <td>y</td>\n",
              "      <td>t</td>\n",
              "      <td>a</td>\n",
              "      <td>f</td>\n",
              "      <td>c</td>\n",
              "      <td>b</td>\n",
              "      <td>k</td>\n",
              "      <td>e</td>\n",
              "      <td>c</td>\n",
              "      <td>s</td>\n",
              "      <td>s</td>\n",
              "      <td>w</td>\n",
              "      <td>w</td>\n",
              "      <td>p</td>\n",
              "      <td>w</td>\n",
              "      <td>o</td>\n",
              "      <td>p</td>\n",
              "      <td>n</td>\n",
              "      <td>n</td>\n",
              "      <td>g</td>\n",
              "    </tr>\n",
              "    <tr>\n",
              "      <th>2</th>\n",
              "      <td>e</td>\n",
              "      <td>b</td>\n",
              "      <td>s</td>\n",
              "      <td>w</td>\n",
              "      <td>t</td>\n",
              "      <td>l</td>\n",
              "      <td>f</td>\n",
              "      <td>c</td>\n",
              "      <td>b</td>\n",
              "      <td>n</td>\n",
              "      <td>e</td>\n",
              "      <td>c</td>\n",
              "      <td>s</td>\n",
              "      <td>s</td>\n",
              "      <td>w</td>\n",
              "      <td>w</td>\n",
              "      <td>p</td>\n",
              "      <td>w</td>\n",
              "      <td>o</td>\n",
              "      <td>p</td>\n",
              "      <td>n</td>\n",
              "      <td>n</td>\n",
              "      <td>m</td>\n",
              "    </tr>\n",
              "    <tr>\n",
              "      <th>3</th>\n",
              "      <td>p</td>\n",
              "      <td>x</td>\n",
              "      <td>y</td>\n",
              "      <td>w</td>\n",
              "      <td>t</td>\n",
              "      <td>p</td>\n",
              "      <td>f</td>\n",
              "      <td>c</td>\n",
              "      <td>n</td>\n",
              "      <td>n</td>\n",
              "      <td>e</td>\n",
              "      <td>e</td>\n",
              "      <td>s</td>\n",
              "      <td>s</td>\n",
              "      <td>w</td>\n",
              "      <td>w</td>\n",
              "      <td>p</td>\n",
              "      <td>w</td>\n",
              "      <td>o</td>\n",
              "      <td>p</td>\n",
              "      <td>k</td>\n",
              "      <td>s</td>\n",
              "      <td>u</td>\n",
              "    </tr>\n",
              "    <tr>\n",
              "      <th>4</th>\n",
              "      <td>e</td>\n",
              "      <td>x</td>\n",
              "      <td>s</td>\n",
              "      <td>g</td>\n",
              "      <td>f</td>\n",
              "      <td>n</td>\n",
              "      <td>f</td>\n",
              "      <td>w</td>\n",
              "      <td>b</td>\n",
              "      <td>k</td>\n",
              "      <td>t</td>\n",
              "      <td>e</td>\n",
              "      <td>s</td>\n",
              "      <td>s</td>\n",
              "      <td>w</td>\n",
              "      <td>w</td>\n",
              "      <td>p</td>\n",
              "      <td>w</td>\n",
              "      <td>o</td>\n",
              "      <td>e</td>\n",
              "      <td>n</td>\n",
              "      <td>a</td>\n",
              "      <td>g</td>\n",
              "    </tr>\n",
              "  </tbody>\n",
              "</table>\n",
              "</div>"
            ],
            "text/plain": [
              "  class cap-shape cap-surface cap-color bruises odor gill-attachment  \\\n",
              "0     p         x           s         n       t    p               f   \n",
              "1     e         x           s         y       t    a               f   \n",
              "2     e         b           s         w       t    l               f   \n",
              "3     p         x           y         w       t    p               f   \n",
              "4     e         x           s         g       f    n               f   \n",
              "\n",
              "  gill-spacing gill-size gill-color stalk-shape stalk-root  \\\n",
              "0            c         n          k           e          e   \n",
              "1            c         b          k           e          c   \n",
              "2            c         b          n           e          c   \n",
              "3            c         n          n           e          e   \n",
              "4            w         b          k           t          e   \n",
              "\n",
              "  stalk-surface-above-ring stalk-surface-below-ring stalk-color-above-ring  \\\n",
              "0                        s                        s                      w   \n",
              "1                        s                        s                      w   \n",
              "2                        s                        s                      w   \n",
              "3                        s                        s                      w   \n",
              "4                        s                        s                      w   \n",
              "\n",
              "  stalk-color-below-ring veil-type veil-color ring-number ring-type  \\\n",
              "0                      w         p          w           o         p   \n",
              "1                      w         p          w           o         p   \n",
              "2                      w         p          w           o         p   \n",
              "3                      w         p          w           o         p   \n",
              "4                      w         p          w           o         e   \n",
              "\n",
              "  spore-print-color population habitat  \n",
              "0                 k          s       u  \n",
              "1                 n          n       g  \n",
              "2                 n          n       m  \n",
              "3                 k          s       u  \n",
              "4                 n          a       g  "
            ]
          },
          "metadata": {
            "tags": []
          },
          "execution_count": 9
        }
      ]
    },
    {
      "cell_type": "markdown",
      "metadata": {
        "id": "MYR2Pa3YxqN7",
        "colab_type": "text"
      },
      "source": [
        "class が今回のターゲットであり、p(poison)=毒性, e(edible)=食用 の２種類の値を持っている。\n",
        "\n",
        "今回は特徴量として、 gill-size（ひだのサイズ）と bruises（あざ）のみを使う。"
      ]
    },
    {
      "cell_type": "code",
      "metadata": {
        "id": "CdvD__bXxgpu",
        "colab_type": "code",
        "colab": {
          "base_uri": "https://localhost:8080/",
          "height": 195
        },
        "outputId": "f2eb8355-5303-4cc7-e6b0-b881962ee9c7"
      },
      "source": [
        "# データセットの切り分け\n",
        "mushroom = mushroom[['class', 'gill-size', 'bruises']]\n",
        "mushroom.head()"
      ],
      "execution_count": 10,
      "outputs": [
        {
          "output_type": "execute_result",
          "data": {
            "text/html": [
              "<div>\n",
              "<style scoped>\n",
              "    .dataframe tbody tr th:only-of-type {\n",
              "        vertical-align: middle;\n",
              "    }\n",
              "\n",
              "    .dataframe tbody tr th {\n",
              "        vertical-align: top;\n",
              "    }\n",
              "\n",
              "    .dataframe thead th {\n",
              "        text-align: right;\n",
              "    }\n",
              "</style>\n",
              "<table border=\"1\" class=\"dataframe\">\n",
              "  <thead>\n",
              "    <tr style=\"text-align: right;\">\n",
              "      <th></th>\n",
              "      <th>class</th>\n",
              "      <th>gill-size</th>\n",
              "      <th>bruises</th>\n",
              "    </tr>\n",
              "  </thead>\n",
              "  <tbody>\n",
              "    <tr>\n",
              "      <th>0</th>\n",
              "      <td>p</td>\n",
              "      <td>n</td>\n",
              "      <td>t</td>\n",
              "    </tr>\n",
              "    <tr>\n",
              "      <th>1</th>\n",
              "      <td>e</td>\n",
              "      <td>b</td>\n",
              "      <td>t</td>\n",
              "    </tr>\n",
              "    <tr>\n",
              "      <th>2</th>\n",
              "      <td>e</td>\n",
              "      <td>b</td>\n",
              "      <td>t</td>\n",
              "    </tr>\n",
              "    <tr>\n",
              "      <th>3</th>\n",
              "      <td>p</td>\n",
              "      <td>n</td>\n",
              "      <td>t</td>\n",
              "    </tr>\n",
              "    <tr>\n",
              "      <th>4</th>\n",
              "      <td>e</td>\n",
              "      <td>b</td>\n",
              "      <td>f</td>\n",
              "    </tr>\n",
              "  </tbody>\n",
              "</table>\n",
              "</div>"
            ],
            "text/plain": [
              "  class gill-size bruises\n",
              "0     p         n       t\n",
              "1     e         b       t\n",
              "2     e         b       t\n",
              "3     p         n       t\n",
              "4     e         b       f"
            ]
          },
          "metadata": {
            "tags": []
          },
          "execution_count": 10
        }
      ]
    },
    {
      "cell_type": "markdown",
      "metadata": {
        "id": "zaBvCfBfyPjY",
        "colab_type": "text"
      },
      "source": [
        "### 1. ダミー変数へ変換\n",
        "\n",
        "\n",
        "データフレームの値はすべて文字列になっている。\n",
        "このままではロジスティック回帰としての処理ができないため、\n",
        "それぞれの値に属している場合を「1」、属していない場合を「0」というダミー変数へ変換する。"
      ]
    },
    {
      "cell_type": "code",
      "metadata": {
        "id": "myPhgoLryNDQ",
        "colab_type": "code",
        "colab": {
          "base_uri": "https://localhost:8080/",
          "height": 213
        },
        "outputId": "fcad2f03-8dc6-4c1f-c85e-c07f7c6f61c5"
      },
      "source": [
        "# カラム情報を引き継いで、ダミー変数へ変換した mushroom2 を作成\n",
        "mushroomcol = mushroom.columns[1:]\n",
        "print(mushroomcol)\n",
        "mushroom2 = pd.get_dummies(mushroom, columns=mushroomcol, drop_first=True)\n",
        "mushroom2.head()"
      ],
      "execution_count": 14,
      "outputs": [
        {
          "output_type": "stream",
          "text": [
            "Index(['gill-size', 'bruises'], dtype='object')\n"
          ],
          "name": "stdout"
        },
        {
          "output_type": "execute_result",
          "data": {
            "text/html": [
              "<div>\n",
              "<style scoped>\n",
              "    .dataframe tbody tr th:only-of-type {\n",
              "        vertical-align: middle;\n",
              "    }\n",
              "\n",
              "    .dataframe tbody tr th {\n",
              "        vertical-align: top;\n",
              "    }\n",
              "\n",
              "    .dataframe thead th {\n",
              "        text-align: right;\n",
              "    }\n",
              "</style>\n",
              "<table border=\"1\" class=\"dataframe\">\n",
              "  <thead>\n",
              "    <tr style=\"text-align: right;\">\n",
              "      <th></th>\n",
              "      <th>class</th>\n",
              "      <th>gill-size_n</th>\n",
              "      <th>bruises_t</th>\n",
              "    </tr>\n",
              "  </thead>\n",
              "  <tbody>\n",
              "    <tr>\n",
              "      <th>0</th>\n",
              "      <td>p</td>\n",
              "      <td>1</td>\n",
              "      <td>1</td>\n",
              "    </tr>\n",
              "    <tr>\n",
              "      <th>1</th>\n",
              "      <td>e</td>\n",
              "      <td>0</td>\n",
              "      <td>1</td>\n",
              "    </tr>\n",
              "    <tr>\n",
              "      <th>2</th>\n",
              "      <td>e</td>\n",
              "      <td>0</td>\n",
              "      <td>1</td>\n",
              "    </tr>\n",
              "    <tr>\n",
              "      <th>3</th>\n",
              "      <td>p</td>\n",
              "      <td>1</td>\n",
              "      <td>1</td>\n",
              "    </tr>\n",
              "    <tr>\n",
              "      <th>4</th>\n",
              "      <td>e</td>\n",
              "      <td>0</td>\n",
              "      <td>0</td>\n",
              "    </tr>\n",
              "  </tbody>\n",
              "</table>\n",
              "</div>"
            ],
            "text/plain": [
              "  class  gill-size_n  bruises_t\n",
              "0     p            1          1\n",
              "1     e            0          1\n",
              "2     e            0          1\n",
              "3     p            1          1\n",
              "4     e            0          0"
            ]
          },
          "metadata": {
            "tags": []
          },
          "execution_count": 14
        }
      ]
    },
    {
      "cell_type": "markdown",
      "metadata": {
        "id": "6o-jt7uAzwAy",
        "colab_type": "text"
      },
      "source": [
        "### 2. 文字列から数値へ変換\n",
        "\n",
        "次に class の値を毒性「1」、食用「0」と数値に変換する。"
      ]
    },
    {
      "cell_type": "code",
      "metadata": {
        "id": "vWVvhjzYzJ8j",
        "colab_type": "code",
        "colab": {}
      },
      "source": [
        "# LabelEncoder関数を使い「class」の文字列を数値へ変換\n",
        "labelencoder = LabelEncoder()\n",
        "mushroom2['class'] = labelencoder.fit_transform(mushroom2['class'])"
      ],
      "execution_count": 0,
      "outputs": []
    },
    {
      "cell_type": "code",
      "metadata": {
        "id": "8jiTjHNO0JCm",
        "colab_type": "code",
        "colab": {
          "base_uri": "https://localhost:8080/",
          "height": 213
        },
        "outputId": "a0f44bac-a2f5-42bb-ea48-ce0400a07b7c"
      },
      "source": [
        "# データフレームの確認\n",
        "print(mushroom2.shape)\n",
        "mushroom2.head()"
      ],
      "execution_count": 16,
      "outputs": [
        {
          "output_type": "stream",
          "text": [
            "(8124, 3)\n"
          ],
          "name": "stdout"
        },
        {
          "output_type": "execute_result",
          "data": {
            "text/html": [
              "<div>\n",
              "<style scoped>\n",
              "    .dataframe tbody tr th:only-of-type {\n",
              "        vertical-align: middle;\n",
              "    }\n",
              "\n",
              "    .dataframe tbody tr th {\n",
              "        vertical-align: top;\n",
              "    }\n",
              "\n",
              "    .dataframe thead th {\n",
              "        text-align: right;\n",
              "    }\n",
              "</style>\n",
              "<table border=\"1\" class=\"dataframe\">\n",
              "  <thead>\n",
              "    <tr style=\"text-align: right;\">\n",
              "      <th></th>\n",
              "      <th>class</th>\n",
              "      <th>gill-size_n</th>\n",
              "      <th>bruises_t</th>\n",
              "    </tr>\n",
              "  </thead>\n",
              "  <tbody>\n",
              "    <tr>\n",
              "      <th>0</th>\n",
              "      <td>1</td>\n",
              "      <td>1</td>\n",
              "      <td>1</td>\n",
              "    </tr>\n",
              "    <tr>\n",
              "      <th>1</th>\n",
              "      <td>0</td>\n",
              "      <td>0</td>\n",
              "      <td>1</td>\n",
              "    </tr>\n",
              "    <tr>\n",
              "      <th>2</th>\n",
              "      <td>0</td>\n",
              "      <td>0</td>\n",
              "      <td>1</td>\n",
              "    </tr>\n",
              "    <tr>\n",
              "      <th>3</th>\n",
              "      <td>1</td>\n",
              "      <td>1</td>\n",
              "      <td>1</td>\n",
              "    </tr>\n",
              "    <tr>\n",
              "      <th>4</th>\n",
              "      <td>0</td>\n",
              "      <td>0</td>\n",
              "      <td>0</td>\n",
              "    </tr>\n",
              "  </tbody>\n",
              "</table>\n",
              "</div>"
            ],
            "text/plain": [
              "   class  gill-size_n  bruises_t\n",
              "0      1            1          1\n",
              "1      0            0          1\n",
              "2      0            0          1\n",
              "3      1            1          1\n",
              "4      0            0          0"
            ]
          },
          "metadata": {
            "tags": []
          },
          "execution_count": 16
        }
      ]
    },
    {
      "cell_type": "markdown",
      "metadata": {
        "id": "j7m-zwx00osB",
        "colab_type": "text"
      },
      "source": [
        "これで、データの前処理が完了した。"
      ]
    },
    {
      "cell_type": "markdown",
      "metadata": {
        "id": "b8Qkx67w0ssI",
        "colab_type": "text"
      },
      "source": [
        "bruises（あざ）の有無を特徴量として、キノコの「class」を予測するロジスティック回帰のモデルを作ってみる。"
      ]
    },
    {
      "cell_type": "code",
      "metadata": {
        "id": "C98BFBtT0N0a",
        "colab_type": "code",
        "colab": {
          "base_uri": "https://localhost:8080/",
          "height": 105
        },
        "outputId": "0263694d-08d4-4c83-de93-4f49cab8cf39"
      },
      "source": [
        "# statsmodel を利用してロジスティック回帰のモデルを構築する\n",
        "mushroom2 = sm.add_constant(mushroom2)\n",
        "logit = sm.Logit(mushroom2['class'], mushroom2[['const', 'bruises_t']])\n",
        "result = logit.fit()"
      ],
      "execution_count": 17,
      "outputs": [
        {
          "output_type": "stream",
          "text": [
            "Optimization terminated successfully.\n",
            "         Current function value: 0.559154\n",
            "         Iterations 5\n"
          ],
          "name": "stdout"
        },
        {
          "output_type": "stream",
          "text": [
            "/usr/local/lib/python3.6/dist-packages/numpy/core/fromnumeric.py:2389: FutureWarning: Method .ptp is deprecated and will be removed in a future version. Use numpy.ptp instead.\n",
            "  return ptp(axis=axis, out=out, **kwargs)\n"
          ],
          "name": "stderr"
        }
      ]
    },
    {
      "cell_type": "code",
      "metadata": {
        "id": "qPRl3RNh1ELH",
        "colab_type": "code",
        "colab": {
          "base_uri": "https://localhost:8080/",
          "height": 237
        },
        "outputId": "83306c0d-91b6-4984-c8f4-eaa8b149a8aa"
      },
      "source": [
        "result.summary()"
      ],
      "execution_count": 18,
      "outputs": [
        {
          "output_type": "execute_result",
          "data": {
            "text/html": [
              "<table class=\"simpletable\">\n",
              "<caption>Logit Regression Results</caption>\n",
              "<tr>\n",
              "  <th>Dep. Variable:</th>         <td>class</td>      <th>  No. Observations:  </th>  <td>  8124</td> \n",
              "</tr>\n",
              "<tr>\n",
              "  <th>Model:</th>                 <td>Logit</td>      <th>  Df Residuals:      </th>  <td>  8122</td> \n",
              "</tr>\n",
              "<tr>\n",
              "  <th>Method:</th>                 <td>MLE</td>       <th>  Df Model:          </th>  <td>     1</td> \n",
              "</tr>\n",
              "<tr>\n",
              "  <th>Date:</th>            <td>Wed, 31 Jul 2019</td> <th>  Pseudo R-squ.:     </th>  <td>0.1926</td> \n",
              "</tr>\n",
              "<tr>\n",
              "  <th>Time:</th>                <td>07:01:18</td>     <th>  Log-Likelihood:    </th> <td> -4542.6</td>\n",
              "</tr>\n",
              "<tr>\n",
              "  <th>converged:</th>             <td>True</td>       <th>  LL-Null:           </th> <td> -5625.9</td>\n",
              "</tr>\n",
              "<tr>\n",
              "  <th>Covariance Type:</th>     <td>nonrobust</td>    <th>  LLR p-value:       </th>  <td> 0.000</td> \n",
              "</tr>\n",
              "</table>\n",
              "<table class=\"simpletable\">\n",
              "<tr>\n",
              "      <td></td>         <th>coef</th>     <th>std err</th>      <th>z</th>      <th>P>|z|</th>  <th>[0.025</th>    <th>0.975]</th>  \n",
              "</tr>\n",
              "<tr>\n",
              "  <th>const</th>     <td>    0.8158</td> <td>    0.031</td> <td>   25.920</td> <td> 0.000</td> <td>    0.754</td> <td>    0.877</td>\n",
              "</tr>\n",
              "<tr>\n",
              "  <th>bruises_t</th> <td>   -2.2997</td> <td>    0.054</td> <td>  -42.295</td> <td> 0.000</td> <td>   -2.406</td> <td>   -2.193</td>\n",
              "</tr>\n",
              "</table>"
            ],
            "text/plain": [
              "<class 'statsmodels.iolib.summary.Summary'>\n",
              "\"\"\"\n",
              "                           Logit Regression Results                           \n",
              "==============================================================================\n",
              "Dep. Variable:                  class   No. Observations:                 8124\n",
              "Model:                          Logit   Df Residuals:                     8122\n",
              "Method:                           MLE   Df Model:                            1\n",
              "Date:                Wed, 31 Jul 2019   Pseudo R-squ.:                  0.1926\n",
              "Time:                        07:01:18   Log-Likelihood:                -4542.6\n",
              "converged:                       True   LL-Null:                       -5625.9\n",
              "Covariance Type:            nonrobust   LLR p-value:                     0.000\n",
              "==============================================================================\n",
              "                 coef    std err          z      P>|z|      [0.025      0.975]\n",
              "------------------------------------------------------------------------------\n",
              "const          0.8158      0.031     25.920      0.000       0.754       0.877\n",
              "bruises_t     -2.2997      0.054    -42.295      0.000      -2.406      -2.193\n",
              "==============================================================================\n",
              "\"\"\""
            ]
          },
          "metadata": {
            "tags": []
          },
          "execution_count": 18
        }
      ]
    },
    {
      "cell_type": "code",
      "metadata": {
        "id": "VNc3LyD01UbJ",
        "colab_type": "code",
        "colab": {
          "base_uri": "https://localhost:8080/",
          "height": 77
        },
        "outputId": "9da67474-3bee-46e9-f12d-3fce57076ec0"
      },
      "source": [
        "# 10番目のサンプルデータを表示\n",
        "\n",
        "mushroom2[mushroom2.index == 10]"
      ],
      "execution_count": 19,
      "outputs": [
        {
          "output_type": "execute_result",
          "data": {
            "text/html": [
              "<div>\n",
              "<style scoped>\n",
              "    .dataframe tbody tr th:only-of-type {\n",
              "        vertical-align: middle;\n",
              "    }\n",
              "\n",
              "    .dataframe tbody tr th {\n",
              "        vertical-align: top;\n",
              "    }\n",
              "\n",
              "    .dataframe thead th {\n",
              "        text-align: right;\n",
              "    }\n",
              "</style>\n",
              "<table border=\"1\" class=\"dataframe\">\n",
              "  <thead>\n",
              "    <tr style=\"text-align: right;\">\n",
              "      <th></th>\n",
              "      <th>const</th>\n",
              "      <th>class</th>\n",
              "      <th>gill-size_n</th>\n",
              "      <th>bruises_t</th>\n",
              "    </tr>\n",
              "  </thead>\n",
              "  <tbody>\n",
              "    <tr>\n",
              "      <th>10</th>\n",
              "      <td>1.0</td>\n",
              "      <td>0</td>\n",
              "      <td>0</td>\n",
              "      <td>1</td>\n",
              "    </tr>\n",
              "  </tbody>\n",
              "</table>\n",
              "</div>"
            ],
            "text/plain": [
              "    const  class  gill-size_n  bruises_t\n",
              "10    1.0      0            0          1"
            ]
          },
          "metadata": {
            "tags": []
          },
          "execution_count": 19
        }
      ]
    },
    {
      "cell_type": "markdown",
      "metadata": {
        "id": "VGtzERNs12C9",
        "colab_type": "text"
      },
      "source": [
        "シグモイド関数を使ってみる。\n",
        "\n",
        "$\\frac{e^{(w_1x+w_0)}}{1+e^{(w_1x+w_0)}}$\n",
        "\n",
        "予測したい10番目のキノコの bruises の値は「1」なので、$x = 1$\n",
        "\n",
        "係数（coefficient）である $w_1$ の値は、-2.2997 \n",
        "\n",
        "定数項（constatnt）である $w_0$ の値は、0.8158"
      ]
    },
    {
      "cell_type": "code",
      "metadata": {
        "id": "cFDCYF841ncu",
        "colab_type": "code",
        "colab": {
          "base_uri": "https://localhost:8080/",
          "height": 34
        },
        "outputId": "df4bef60-6757-4ed5-d36e-0d55dbb24a6a"
      },
      "source": [
        "import numpy as np\n",
        "model1 = np.exp(.8158 + (-2.2997*1)) / (1.0 + np.exp(.8158 + (-2.2997*1)))\n",
        "print('Index 10 has a', round(model1 * 100, 2), '% probability of being posonnous')"
      ],
      "execution_count": 22,
      "outputs": [
        {
          "output_type": "stream",
          "text": [
            "Index 10 has a 18.48 % probability of being posonnous\n"
          ],
          "name": "stdout"
        }
      ]
    },
    {
      "cell_type": "markdown",
      "metadata": {
        "id": "-niuTKae3k_3",
        "colab_type": "text"
      },
      "source": [
        "一般的なロジスティック回帰では、出力された確率が 50 %以上で分類を行う。\n",
        "\n",
        "今回の結果は 18.48 % と 50% 以下なので、食用となる。\n",
        "実際の10番目のキノコのクラスは 0（食用）なので正しい。"
      ]
    },
    {
      "cell_type": "markdown",
      "metadata": {
        "id": "h6L_Os-l4AQ9",
        "colab_type": "text"
      },
      "source": [
        "## Section.4: 複数の特徴量でのロジスティック回帰\n",
        "\n",
        "複数の特徴量に適用するシグモイド関数は以下の通り。\n",
        "\n",
        "$\\frac{e^{(w_0+w_1x_1+..w_nx_n)}}{1 + e^{(w_0+w_1x_1+..w_nx_n)}}$\n",
        "\n"
      ]
    },
    {
      "cell_type": "code",
      "metadata": {
        "id": "GsIy9NAs3WqX",
        "colab_type": "code",
        "colab": {
          "base_uri": "https://localhost:8080/",
          "height": 70
        },
        "outputId": "1d50de8d-7852-49ef-ee70-4f16625999b0"
      },
      "source": [
        "# 特徴量2つのロジスティック回帰モデルの作成\n",
        "\n",
        "logit = sm.Logit(mushroom2['class'], mushroom2[['const', 'bruises_t', 'gill-size_n']])\n",
        "result = logit.fit()"
      ],
      "execution_count": 23,
      "outputs": [
        {
          "output_type": "stream",
          "text": [
            "Optimization terminated successfully.\n",
            "         Current function value: 0.463890\n",
            "         Iterations 6\n"
          ],
          "name": "stdout"
        }
      ]
    },
    {
      "cell_type": "code",
      "metadata": {
        "id": "xfZNLU1f42Z4",
        "colab_type": "code",
        "colab": {
          "base_uri": "https://localhost:8080/",
          "height": 257
        },
        "outputId": "bb92279d-71cc-429b-f226-d2e70e7d1acd"
      },
      "source": [
        "result.summary()"
      ],
      "execution_count": 24,
      "outputs": [
        {
          "output_type": "execute_result",
          "data": {
            "text/html": [
              "<table class=\"simpletable\">\n",
              "<caption>Logit Regression Results</caption>\n",
              "<tr>\n",
              "  <th>Dep. Variable:</th>         <td>class</td>      <th>  No. Observations:  </th>  <td>  8124</td> \n",
              "</tr>\n",
              "<tr>\n",
              "  <th>Model:</th>                 <td>Logit</td>      <th>  Df Residuals:      </th>  <td>  8121</td> \n",
              "</tr>\n",
              "<tr>\n",
              "  <th>Method:</th>                 <td>MLE</td>       <th>  Df Model:          </th>  <td>     2</td> \n",
              "</tr>\n",
              "<tr>\n",
              "  <th>Date:</th>            <td>Wed, 31 Jul 2019</td> <th>  Pseudo R-squ.:     </th>  <td>0.3301</td> \n",
              "</tr>\n",
              "<tr>\n",
              "  <th>Time:</th>                <td>07:16:54</td>     <th>  Log-Likelihood:    </th> <td> -3768.6</td>\n",
              "</tr>\n",
              "<tr>\n",
              "  <th>converged:</th>             <td>True</td>       <th>  LL-Null:           </th> <td> -5625.9</td>\n",
              "</tr>\n",
              "<tr>\n",
              "  <th>Covariance Type:</th>     <td>nonrobust</td>    <th>  LLR p-value:       </th>  <td> 0.000</td> \n",
              "</tr>\n",
              "</table>\n",
              "<table class=\"simpletable\">\n",
              "<tr>\n",
              "       <td></td>          <th>coef</th>     <th>std err</th>      <th>z</th>      <th>P>|z|</th>  <th>[0.025</th>    <th>0.975]</th>  \n",
              "</tr>\n",
              "<tr>\n",
              "  <th>const</th>       <td>    0.0046</td> <td>    0.038</td> <td>    0.121</td> <td> 0.904</td> <td>   -0.070</td> <td>    0.079</td>\n",
              "</tr>\n",
              "<tr>\n",
              "  <th>bruises_t</th>   <td>   -1.9086</td> <td>    0.060</td> <td>  -31.721</td> <td> 0.000</td> <td>   -2.027</td> <td>   -1.791</td>\n",
              "</tr>\n",
              "<tr>\n",
              "  <th>gill-size_n</th> <td>    2.5106</td> <td>    0.073</td> <td>   34.363</td> <td> 0.000</td> <td>    2.367</td> <td>    2.654</td>\n",
              "</tr>\n",
              "</table>"
            ],
            "text/plain": [
              "<class 'statsmodels.iolib.summary.Summary'>\n",
              "\"\"\"\n",
              "                           Logit Regression Results                           \n",
              "==============================================================================\n",
              "Dep. Variable:                  class   No. Observations:                 8124\n",
              "Model:                          Logit   Df Residuals:                     8121\n",
              "Method:                           MLE   Df Model:                            2\n",
              "Date:                Wed, 31 Jul 2019   Pseudo R-squ.:                  0.3301\n",
              "Time:                        07:16:54   Log-Likelihood:                -3768.6\n",
              "converged:                       True   LL-Null:                       -5625.9\n",
              "Covariance Type:            nonrobust   LLR p-value:                     0.000\n",
              "===============================================================================\n",
              "                  coef    std err          z      P>|z|      [0.025      0.975]\n",
              "-------------------------------------------------------------------------------\n",
              "const           0.0046      0.038      0.121      0.904      -0.070       0.079\n",
              "bruises_t      -1.9086      0.060    -31.721      0.000      -2.027      -1.791\n",
              "gill-size_n     2.5106      0.073     34.363      0.000       2.367       2.654\n",
              "===============================================================================\n",
              "\"\"\""
            ]
          },
          "metadata": {
            "tags": []
          },
          "execution_count": 24
        }
      ]
    },
    {
      "cell_type": "code",
      "metadata": {
        "id": "Spy3_C59447W",
        "colab_type": "code",
        "colab": {
          "base_uri": "https://localhost:8080/",
          "height": 77
        },
        "outputId": "437da0f3-4aa5-4e76-e26b-3f27a10ef538"
      },
      "source": [
        "mushroom2[mushroom2.index == 10]"
      ],
      "execution_count": 25,
      "outputs": [
        {
          "output_type": "execute_result",
          "data": {
            "text/html": [
              "<div>\n",
              "<style scoped>\n",
              "    .dataframe tbody tr th:only-of-type {\n",
              "        vertical-align: middle;\n",
              "    }\n",
              "\n",
              "    .dataframe tbody tr th {\n",
              "        vertical-align: top;\n",
              "    }\n",
              "\n",
              "    .dataframe thead th {\n",
              "        text-align: right;\n",
              "    }\n",
              "</style>\n",
              "<table border=\"1\" class=\"dataframe\">\n",
              "  <thead>\n",
              "    <tr style=\"text-align: right;\">\n",
              "      <th></th>\n",
              "      <th>const</th>\n",
              "      <th>class</th>\n",
              "      <th>gill-size_n</th>\n",
              "      <th>bruises_t</th>\n",
              "    </tr>\n",
              "  </thead>\n",
              "  <tbody>\n",
              "    <tr>\n",
              "      <th>10</th>\n",
              "      <td>1.0</td>\n",
              "      <td>0</td>\n",
              "      <td>0</td>\n",
              "      <td>1</td>\n",
              "    </tr>\n",
              "  </tbody>\n",
              "</table>\n",
              "</div>"
            ],
            "text/plain": [
              "    const  class  gill-size_n  bruises_t\n",
              "10    1.0      0            0          1"
            ]
          },
          "metadata": {
            "tags": []
          },
          "execution_count": 25
        }
      ]
    },
    {
      "cell_type": "code",
      "metadata": {
        "id": "WW4z5c3-4-Qi",
        "colab_type": "code",
        "colab": {}
      },
      "source": [
        "w_0 = 0.0046\n",
        "w_1 = -1.9086\n",
        "w_2 = 2.5106\n",
        "x_1 = 1\n",
        "x_2 = 0"
      ],
      "execution_count": 0,
      "outputs": []
    },
    {
      "cell_type": "code",
      "metadata": {
        "id": "9UM5LxDe5N0f",
        "colab_type": "code",
        "colab": {
          "base_uri": "https://localhost:8080/",
          "height": 34
        },
        "outputId": "348cc6a2-ac44-4fae-d117-6ad013dbe1e1"
      },
      "source": [
        "e_cal = np.exp(w_0 + w_1*x_1 + w_2*x_2)\n",
        "model2 = e_cal / (1.0 + e_cal)\n",
        "print('Index 10 has a', round(model2 * 100, 2), '% probability of being poisonus')"
      ],
      "execution_count": 27,
      "outputs": [
        {
          "output_type": "stream",
          "text": [
            "Index 10 has a 12.97 % probability of being poisonus\n"
          ],
          "name": "stdout"
        }
      ]
    },
    {
      "cell_type": "code",
      "metadata": {
        "id": "T26Z73ZS5vYl",
        "colab_type": "code",
        "colab": {}
      },
      "source": [
        ""
      ],
      "execution_count": 0,
      "outputs": []
    }
  ]
}