{
  "nbformat": 4,
  "nbformat_minor": 0,
  "metadata": {
    "colab": {
      "name": "Chapter2.ipynb",
      "version": "0.3.2",
      "provenance": [],
      "include_colab_link": true
    },
    "kernelspec": {
      "name": "python3",
      "display_name": "Python 3"
    }
  },
  "cells": [
    {
      "cell_type": "markdown",
      "metadata": {
        "id": "view-in-github",
        "colab_type": "text"
      },
      "source": [
        "<a href=\"https://colab.research.google.com/github/naomori/codexa_LogisticRegression_Practice/blob/master/Chapter2.ipynb\" target=\"_parent\"><img src=\"https://colab.research.google.com/assets/colab-badge.svg\" alt=\"Open In Colab\"/></a>"
      ]
    },
    {
      "cell_type": "markdown",
      "metadata": {
        "id": "tLpE1VKKoj-r",
        "colab_type": "text"
      },
      "source": [
        "# 機械学習とロジスティック回帰\n",
        "\n"
      ]
    },
    {
      "cell_type": "markdown",
      "metadata": {
        "id": "NdZcyVzXoppi",
        "colab_type": "text"
      },
      "source": [
        "## Section.1: 機械学習とは？概要と種類\n",
        "\n",
        "機械学習は、コンピュータに明示的にプログラムすることなく、学習する能力を与える研究の分野\n",
        "\n",
        "1. 教師あり学習(Supervised Learning)\n",
        "  - 回帰(Regression)：連続値（数）を予測するもの\n",
        "  - 分類(Classification)：何かを特定のカテゴリへ分類するもの\n",
        "2. 教師なし学習(Unsupervised Learning)\n",
        "3. 強化学習(Reinforcement Learning)\n",
        "\n"
      ]
    },
    {
      "cell_type": "markdown",
      "metadata": {
        "id": "CMG0vXfZpRuu",
        "colab_type": "text"
      },
      "source": [
        "## Section.2: 分類とは？\n",
        "\n",
        "1. 二項分類（Binary Class）\n",
        "2. 多孔分類（Multi-Class）"
      ]
    },
    {
      "cell_type": "markdown",
      "metadata": {
        "id": "5wRUCNdIpo8W",
        "colab_type": "text"
      },
      "source": [
        "## Section.3: 分類問題を扱う様々なアルゴリズム\n",
        "\n",
        "ロジスティック回帰は、分類問題へ活用ができるアルゴリズムの１つ。\n",
        "\n",
        "分類問題へ適用できる他のアルゴリズムを以下に示す。\n",
        "* 近傍方（Nearest Neighbors）\n",
        "* 線形SVM（Linear SVM）\n",
        "* ガウス過程（Gaussian Process）\n",
        "* 決定木（Decision Tree）\n",
        "* ランダムフォレスト（Random Forest）\n",
        "* ニューラルネットワーク（Neural Network）\n",
        "\n",
        "各アルゴリズムによって、決定境界（Decision Boundary）に分類する。"
      ]
    },
    {
      "cell_type": "markdown",
      "metadata": {
        "id": "rA2TzCJoqsGy",
        "colab_type": "text"
      },
      "source": [
        "## Section.4: ロジスティック回帰とは？\n",
        "\n",
        "**Logistic Regression**\n",
        "\n",
        "ロジスティック回帰とは、「分類問題に対する確率論的アプローチ」と言える。\n",
        "ロジスティック回帰の目標は、サンプルが特定のカテゴリやクラスに属する「確率」をモデル化すること。"
      ]
    },
    {
      "cell_type": "markdown",
      "metadata": {
        "id": "hY_AI0sSrZNZ",
        "colab_type": "text"
      },
      "source": [
        "## Section.5: ロジスティック回帰の強み\n",
        "\n",
        "#### 強み\n",
        "\n",
        "* シンプルで理解しやすいため、説明が容易\n",
        "* 出力が確率なので、予測結果が扱いやすい\n",
        "* パラメタチューニングの必要性がない\n",
        "\n",
        "ハイパーパラメタ：人間が設定しなくてはいけない値のこと\n",
        "\n",
        "#### 弱み\n",
        "\n",
        "* 非線形の決定境界には対応できない。\n",
        "  - ロジスティック回帰は線形性を前提としているため、  \n",
        "    データが複雑な相関性をもつ場合は適用できない\n",
        "\n",
        "  \n",
        "  "
      ]
    },
    {
      "cell_type": "markdown",
      "metadata": {
        "id": "wEJqFh8usQK2",
        "colab_type": "text"
      },
      "source": [
        "## Section.6: ここで用いるデータセットの説明\n",
        "\n",
        "Kaggle の Mushroom Classification。\n",
        "\n"
      ]
    },
    {
      "cell_type": "code",
      "metadata": {
        "id": "aLVvsFzHnxUo",
        "colab_type": "code",
        "colab": {}
      },
      "source": [
        ""
      ],
      "execution_count": 0,
      "outputs": []
    }
  ]
}